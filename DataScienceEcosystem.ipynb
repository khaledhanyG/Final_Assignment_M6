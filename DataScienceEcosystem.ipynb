{
 "cells": [
  {
   "cell_type": "markdown",
   "id": "c97b630c-f98e-4730-9f5d-afd4ae82c807",
   "metadata": {},
   "source": [
    "<u><span style=\"color:red;\">**Exercise 2: Create markdown cell with title of the notebook**</span></u>"
   ]
  },
  {
   "cell_type": "markdown",
   "id": "c46e6e12-6273-43f0-9f01-dc2d2fe5ca7e",
   "metadata": {},
   "source": [
    "# Data Science Tools and Ecosystem"
   ]
  },
  {
   "cell_type": "markdown",
   "id": "6ab63395-675d-4e0d-a414-793b8f63d594",
   "metadata": {},
   "source": [
    "<u><span style=\"color:red;\">**Exercise 3 - Create a markdown cell for an introduction**</span></u>"
   ]
  },
  {
   "cell_type": "markdown",
   "id": "ce789a79-018c-4b1f-a05f-f73886416218",
   "metadata": {},
   "source": [
    "In this notebook, Data Science Tools and Ecosystem are summarized."
   ]
  },
  {
   "cell_type": "markdown",
   "id": "7d144a65-62ea-4db3-abd3-85af418e2357",
   "metadata": {},
   "source": [
    "<u><span style=\"color:red;\">**Exercise 10 - Insert a markdown cell to list Objectives**</span></u>"
   ]
  },
  {
   "cell_type": "markdown",
   "id": "97b32451-6fb5-4cf9-b8f7-f7935a715e41",
   "metadata": {},
   "source": [
    "**Objectives:**\n",
    "* Python\n",
    "* R\n",
    "* Julia\n",
    "* SQL\n",
    "* Scala\n"
   ]
  },
  {
   "cell_type": "markdown",
   "id": "75a6abfd-f701-429a-b8c3-ea108e752a0d",
   "metadata": {},
   "source": [
    "<u><span style=\"color:red;\">**Exercise 4 - Create a markdown cell to list data science languages**</span></u>"
   ]
  },
  {
   "cell_type": "markdown",
   "id": "f286565b-55f7-4ee2-9c04-49f9362e5b72",
   "metadata": {},
   "source": [
    "Some of the popular languages that Data Scientists use are:\n",
    "1. Python\n",
    "2. R\n",
    "3. Julia"
   ]
  },
  {
   "cell_type": "markdown",
   "id": "7c3a7698-471a-4ebb-9b1f-7174af107505",
   "metadata": {},
   "source": [
    "<u><span style=\"color:red;\">**Exercise 5 - Create a markdown cell to list data science libraries**</span></u>"
   ]
  },
  {
   "cell_type": "markdown",
   "id": "35dc893d-1e70-48d5-8c55-97552a01b535",
   "metadata": {},
   "source": [
    "Some of the commonly used libraries used by Data Scientists include:\n",
    "1. Pandas\n",
    "2. Numpy\n",
    "3. Matplotlip\n",
    "\n"
   ]
  },
  {
   "cell_type": "markdown",
   "id": "c51c87a5-4eb0-4149-a761-ab4ad0fc4d2e",
   "metadata": {},
   "source": [
    "<u><span style=\"color:red;\">**Exercise 6 - Create a markdown cell with a table of Data Science tools**</span></u>"
   ]
  },
  {
   "cell_type": "markdown",
   "id": "f230a3a8-35fb-4904-a0b4-79645df6315e",
   "metadata": {},
   "source": [
    "| Data Science Tools |\n",
    "| ------------------ |\n",
    "| Jupyter Notebook |\n",
    "| RStudio |\n",
    "| Visual Studio Code |"
   ]
  },
  {
   "cell_type": "markdown",
   "id": "0d63c8f6-c0f6-4863-bdf2-3ed32bfbca1a",
   "metadata": {},
   "source": [
    "<u><span style=\"color:red;\">**Exercise 7 - Create a markdown cell introducing arithmetic expression examples**</span></u>"
   ]
  },
  {
   "cell_type": "markdown",
   "id": "ac32897b-3a1a-41df-8c14-4e0501765bd9",
   "metadata": {},
   "source": [
    "### Below are a few examples of evaluating arithmetic expressions in Python."
   ]
  },
  {
   "cell_type": "markdown",
   "id": "c7368d01-7541-4df6-81e8-618109622d3f",
   "metadata": {},
   "source": [
    "<u><span style=\"color:red;\">**Exercise 8 - Create a code cell to multiply and add numbers**</span></u>"
   ]
  },
  {
   "cell_type": "code",
   "execution_count": 2,
   "id": "4f2eb6b6-5842-4b07-8727-09a3693a7ee5",
   "metadata": {},
   "outputs": [
    {
     "data": {
      "text/plain": [
       "17"
      ]
     },
     "execution_count": 2,
     "metadata": {},
     "output_type": "execute_result"
    }
   ],
   "source": [
    "# This a simple arithmetic expression to mutiply then add integers.\n",
    "(3*4)+5"
   ]
  },
  {
   "cell_type": "markdown",
   "id": "8e4a1e20-47bd-471a-8c41-7d0709870ecd",
   "metadata": {},
   "source": [
    "<u><span style=\"color:red;\">**Exercise 9 - Create a code cell to convert minutes to hours**</span></u>"
   ]
  },
  {
   "cell_type": "code",
   "execution_count": 3,
   "id": "f32feb09-2f7d-4d67-ac8a-3d7e6c996dbb",
   "metadata": {},
   "outputs": [
    {
     "data": {
      "text/plain": [
       "3.3333333333333335"
      ]
     },
     "execution_count": 3,
     "metadata": {},
     "output_type": "execute_result"
    }
   ],
   "source": [
    "# This will convert 200 minutes to hours by diving by 60\n",
    "200/60"
   ]
  },
  {
   "cell_type": "markdown",
   "id": "6c878e53-99ad-450a-9130-3c9a81ec48e0",
   "metadata": {},
   "source": [
    "<u><span style=\"color:red;\">**Exercise 11 - Create a markdown cell to indicate the Author's name**</span></u>"
   ]
  },
  {
   "cell_type": "markdown",
   "id": "bb386be0-18da-4a72-86fe-d3c4c1347afe",
   "metadata": {},
   "source": [
    "## Author\n",
    "Khaled Genena"
   ]
  }
 ],
 "metadata": {
  "kernelspec": {
   "display_name": "Python 3 (ipykernel)",
   "language": "python",
   "name": "python3"
  },
  "language_info": {
   "codemirror_mode": {
    "name": "ipython",
    "version": 3
   },
   "file_extension": ".py",
   "mimetype": "text/x-python",
   "name": "python",
   "nbconvert_exporter": "python",
   "pygments_lexer": "ipython3",
   "version": "3.13.3"
  }
 },
 "nbformat": 4,
 "nbformat_minor": 5
}
